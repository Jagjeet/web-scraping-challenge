{
 "cells": [
  {
   "cell_type": "markdown",
   "id": "6787391c-a934-4888-9dac-107b3c795971",
   "metadata": {},
   "source": [
    "# Mission To Mars"
   ]
  },
  {
   "cell_type": "markdown",
   "id": "33d0d0d5-192f-42d4-990a-3cc0efae5934",
   "metadata": {},
   "source": [
    "## NASA Mars News\n",
    "\n",
    "Scrape title/blurb from [Nasa Mars News](https://mars.nasa.gov/news/)"
   ]
  },
  {
   "cell_type": "code",
   "execution_count": 127,
   "id": "2e02ffa5-b717-4f2f-8a91-ea4452eea52b",
   "metadata": {
    "scrolled": true,
    "tags": []
   },
   "outputs": [
    {
     "name": "stderr",
     "output_type": "stream",
     "text": [
      "\n",
      "\n",
      "====== WebDriver manager ======\n",
      "Current google-chrome version is 93.0.4577\n",
      "Get LATEST driver version for 93.0.4577\n",
      "Driver [/Users/jagjeetkhalsa/.wdm/drivers/chromedriver/mac64/93.0.4577.63/chromedriver] found in cache\n"
     ]
    },
    {
     "name": "stdout",
     "output_type": "stream",
     "text": [
      "NASA's Ingenuity Helicopter Captures a Mars Rock Feature in 3D\n",
      "The rotorcraft captures nuances of rocky outcrop during aerial reconnaissance.\n"
     ]
    }
   ],
   "source": [
    "from splinter import Browser \n",
    "from bs4 import BeautifulSoup\n",
    "from webdriver_manager.chrome import ChromeDriverManager\n",
    "\n",
    "def init_browser():\n",
    "    # @NOTE: Replace the path with your actual path to the chromedriver\n",
    "    executable_path = { \"executable_path\": ChromeDriverManager().install()}\n",
    "    return Browser(\"chrome\", **executable_path, headless=False)\n",
    "\n",
    "def scrapeNasaMarsNews():\n",
    "    url = 'https://mars.nasa.gov/news/'\n",
    "\n",
    "    browser = init_browser()\n",
    "    browser.visit(url)\n",
    "    html = browser.html\n",
    "    browser.quit()\n",
    "    \n",
    "    soup = BeautifulSoup(html, \"html.parser\")\n",
    "    \n",
    "    slides = soup.find_all('li', class_='slide')\n",
    "#     print(slides[0].prettify())\n",
    "\n",
    "    title = slides[0].find('div', class_='content_title')\n",
    "    link = title.find('a')\n",
    "    teaser = slides[0].find('div', class_='article_teaser_body')\n",
    "    \n",
    "    return link.text.strip(), teaser.text.strip()\n",
    "    \n",
    "\n",
    "news_tuple = scrapeNasaMarsNews()\n",
    "# print(news_tuple)\n",
    "news_title, news_p = news_tuple\n",
    "print(news_title)\n",
    "print(news_p)"
   ]
  },
  {
   "cell_type": "markdown",
   "id": "dba7a5d4-d312-48c4-82f0-17045605e76e",
   "metadata": {},
   "source": [
    "## JPL Space Featured Image\n",
    "\n",
    "Scrape featured image from [Jet Propulsion Laboratory](https://data-class-jpl-space.s3.amazonaws.com/JPL_Space/index.html)"
   ]
  },
  {
   "cell_type": "code",
   "execution_count": 128,
   "id": "ffeb7eeb-b81f-4506-9a40-28d0dfd287c1",
   "metadata": {
    "scrolled": true,
    "tags": []
   },
   "outputs": [
    {
     "name": "stderr",
     "output_type": "stream",
     "text": [
      "\n",
      "\n",
      "====== WebDriver manager ======\n",
      "Current google-chrome version is 93.0.4577\n",
      "Get LATEST driver version for 93.0.4577\n",
      "Driver [/Users/jagjeetkhalsa/.wdm/drivers/chromedriver/mac64/93.0.4577.63/chromedriver] found in cache\n"
     ]
    },
    {
     "name": "stdout",
     "output_type": "stream",
     "text": [
      "https://data-class-jpl-space.s3.amazonaws.com/JPL_Space/image/featured/mars2.jpg\n"
     ]
    }
   ],
   "source": [
    "from urllib.parse import urljoin\n",
    "\n",
    "def scrapeJPLFeaturedImage():\n",
    "    browser = init_browser()\n",
    "\n",
    "    url = 'https://data-class-jpl-space.s3.amazonaws.com/JPL_Space/index.html'\n",
    "\n",
    "    browser.visit(url)\n",
    "    html = browser.html\n",
    "\n",
    "    browser.quit()\n",
    "    \n",
    "    soup = BeautifulSoup(html, \"html.parser\")\n",
    "    header = soup.find('div', class_='header')\n",
    "    text_area = header.find('div', class_='floating_text_area')\n",
    "    link = text_area.find('a', class_='showimg')\n",
    "\n",
    "    #For getting the base URL see:\n",
    "    #https://stackoverflow.com/questions/35616434/how-can-i-get-the-base-of-a-url-in-python\n",
    "    return urljoin(url, '.') + link['href']    \n",
    "\n",
    "featured_image_url = scrapeJPLFeaturedImage()\n",
    "print(featured_image_url)\n"
   ]
  },
  {
   "cell_type": "markdown",
   "id": "dcd9bd11-9e61-4c29-9134-a79c6551f5a3",
   "metadata": {},
   "source": [
    "## Mars Space Facts Table\n",
    "\n",
    "Scrape table from [Space-Facts.com](https://space-facts.com/mars/) using Pandas"
   ]
  },
  {
   "cell_type": "code",
   "execution_count": 135,
   "id": "30442033-5c6d-4f66-ac5a-5a9a6d9a04e6",
   "metadata": {
    "scrolled": true,
    "tags": []
   },
   "outputs": [
    {
     "name": "stdout",
     "output_type": "stream",
     "text": [
      "<table border=\"1\" class=\"dataframe\">\n",
      "  <thead>\n",
      "    <tr style=\"text-align: right;\">\n",
      "      <th></th>\n",
      "      <th>0</th>\n",
      "      <th>1</th>\n",
      "    </tr>\n",
      "  </thead>\n",
      "  <tbody>\n",
      "    <tr>\n",
      "      <th>0</th>\n",
      "      <td>Equatorial Diameter:</td>\n",
      "      <td>6,792 km</td>\n",
      "    </tr>\n",
      "    <tr>\n",
      "      <th>1</th>\n",
      "      <td>Polar Diameter:</td>\n",
      "      <td>6,752 km</td>\n",
      "    </tr>\n",
      "    <tr>\n",
      "      <th>2</th>\n",
      "      <td>Mass:</td>\n",
      "      <td>6.39 × 10^23 kg (0.11 Earths)</td>\n",
      "    </tr>\n",
      "    <tr>\n",
      "      <th>3</th>\n",
      "      <td>Moons:</td>\n",
      "      <td>2 (Phobos &amp; Deimos)</td>\n",
      "    </tr>\n",
      "    <tr>\n",
      "      <th>4</th>\n",
      "      <td>Orbit Distance:</td>\n",
      "      <td>227,943,824 km (1.38 AU)</td>\n",
      "    </tr>\n",
      "    <tr>\n",
      "      <th>5</th>\n",
      "      <td>Orbit Period:</td>\n",
      "      <td>687 days (1.9 years)</td>\n",
      "    </tr>\n",
      "    <tr>\n",
      "      <th>6</th>\n",
      "      <td>Surface Temperature:</td>\n",
      "      <td>-87 to -5 °C</td>\n",
      "    </tr>\n",
      "    <tr>\n",
      "      <th>7</th>\n",
      "      <td>First Record:</td>\n",
      "      <td>2nd millennium BC</td>\n",
      "    </tr>\n",
      "    <tr>\n",
      "      <th>8</th>\n",
      "      <td>Recorded By:</td>\n",
      "      <td>Egyptian astronomers</td>\n",
      "    </tr>\n",
      "  </tbody>\n",
      "</table>\n"
     ]
    }
   ],
   "source": [
    "import pandas as pd\n",
    "import requests\n",
    "\n",
    "def scrapeMarsSpaceFacts():\n",
    "\n",
    "    url = 'https://space-facts.com/mars/'\n",
    "    tables = pd.read_html(requests.get(url).text)\n",
    "    df = tables[2]\n",
    "    return df.to_html()\n",
    "\n",
    "marsSpaceFactsHTML = scrapeMarsSpaceFacts()\n",
    "print(marsSpaceFactsHTML)\n"
   ]
  },
  {
   "cell_type": "markdown",
   "id": "46122625-5c9b-4d78-a57c-6f55105f24e3",
   "metadata": {},
   "source": [
    "## Astrogeology Mars Hemispheres\n",
    "\n",
    "Scrape title/image urls from [astrogeology.usgs.gov](https://astrogeology.usgs.gov/search/results?q=hemisphere+enhanced&k1=target&v1=Mars)."
   ]
  },
  {
   "cell_type": "code",
   "execution_count": 143,
   "id": "7da318d7-cfa4-4ac0-8336-0295ae896d41",
   "metadata": {
    "scrolled": true,
    "tags": []
   },
   "outputs": [
    {
     "name": "stderr",
     "output_type": "stream",
     "text": [
      "\n",
      "\n",
      "====== WebDriver manager ======\n",
      "Current google-chrome version is 93.0.4577\n",
      "Get LATEST driver version for 93.0.4577\n",
      "Driver [/Users/jagjeetkhalsa/.wdm/drivers/chromedriver/mac64/93.0.4577.63/chromedriver] found in cache\n"
     ]
    },
    {
     "name": "stdout",
     "output_type": "stream",
     "text": [
      "[{'title': 'Cerberus Hemisphere Enhanced', 'img_url': 'https://astropedia.astrogeology.usgs.gov/download/Mars/Viking/cerberus_enhanced.tif/full.jpg'}, {'title': 'Schiaparelli Hemisphere Enhanced', 'img_url': 'https://astropedia.astrogeology.usgs.gov/download/Mars/Viking/schiaparelli_enhanced.tif/full.jpg'}, {'title': 'Syrtis Major Hemisphere Enhanced', 'img_url': 'https://astropedia.astrogeology.usgs.gov/download/Mars/Viking/syrtis_major_enhanced.tif/full.jpg'}, {'title': 'Valles Marineris Hemisphere Enhanced', 'img_url': 'https://astropedia.astrogeology.usgs.gov/download/Mars/Viking/valles_marineris_enhanced.tif/full.jpg'}]\n"
     ]
    }
   ],
   "source": [
    "import time\n",
    "\n",
    "url = 'https://astrogeology.usgs.gov/search/results?q=hemisphere+enhanced&k1=target&v1=Mars'\n",
    "\n",
    "def scrapeMarsHemispheres():\n",
    "    hemisphereList = []\n",
    "    url = 'https://astrogeology.usgs.gov/search/results?q=hemisphere+enhanced&k1=target&v1=Mars'\n",
    "\n",
    "    browser = init_browser()\n",
    "    browser.visit(url)\n",
    "    html = browser.html\n",
    "    \n",
    "    soup = BeautifulSoup(html, \"html.parser\")\n",
    "    mars_section = soup.find(\"section\", {\"id\": \"results-accordian\"})\n",
    "    # mars_section = soup.find(\"section\")\n",
    "    descriptions = mars_section.find_all('div', class_='description')\n",
    "\n",
    "    # print(mars_section.prettify())\n",
    "    # print(descriptions)\n",
    "\n",
    "    for desc in descriptions:\n",
    "        marsDict = {}\n",
    "        # print(desc.prettify())\n",
    "        title = desc.find(\"h3\").text\n",
    "        # print(title)\n",
    "        marsDict['title'] = title\n",
    "        link = desc.find(\"a\", class_='product-item')\n",
    "\n",
    "        link_url = urljoin(url, '/') + link['href']\n",
    "        # print(link_url)\n",
    "        browser.visit(link_url)\n",
    "        link_html = browser.html\n",
    "        time.sleep(1)\n",
    "\n",
    "        # print(link_html)\n",
    "        link_soup = BeautifulSoup(link_html, 'html.parser')\n",
    "        download = link_soup.find(\"div\", class_=\"downloads\")\n",
    "        img_anchor = download.find(\"a\")\n",
    "        # print(download)\n",
    "        # print(img_anchor)\n",
    "        # print(img_anchor['href'])\n",
    "        marsDict['img_url']=img_anchor['href']\n",
    "        hemisphereList.append(marsDict)\n",
    "\n",
    "    browser.quit()\n",
    "   \n",
    "    return hemisphereList\n",
    "    \n",
    "#     browser.quit()\n",
    "\n",
    "#     return html\n",
    "#     soup = BeautifulSoup(html, \"html.parser\")\n",
    "\n",
    "hemisphereList = scrapeMarsHemispheres()\n",
    "print(hemisphereList)\n"
   ]
  },
  {
   "cell_type": "markdown",
   "id": "ab91bf10-a855-4a66-a268-69d1358e5c94",
   "metadata": {},
   "source": [
    "## Combine Mars Data\n",
    "\n",
    "Return a single object with all the data"
   ]
  },
  {
   "cell_type": "code",
   "execution_count": 144,
   "id": "68c650dc-7e68-4d3c-bbd3-c18ec797c5b2",
   "metadata": {},
   "outputs": [
    {
     "name": "stderr",
     "output_type": "stream",
     "text": [
      "\n",
      "\n",
      "====== WebDriver manager ======\n",
      "Current google-chrome version is 93.0.4577\n",
      "Get LATEST driver version for 93.0.4577\n",
      "Driver [/Users/jagjeetkhalsa/.wdm/drivers/chromedriver/mac64/93.0.4577.63/chromedriver] found in cache\n",
      "\n",
      "\n",
      "====== WebDriver manager ======\n",
      "Current google-chrome version is 93.0.4577\n",
      "Get LATEST driver version for 93.0.4577\n",
      "Driver [/Users/jagjeetkhalsa/.wdm/drivers/chromedriver/mac64/93.0.4577.63/chromedriver] found in cache\n",
      "\n",
      "\n",
      "====== WebDriver manager ======\n",
      "Current google-chrome version is 93.0.4577\n",
      "Get LATEST driver version for 93.0.4577\n",
      "Driver [/Users/jagjeetkhalsa/.wdm/drivers/chromedriver/mac64/93.0.4577.63/chromedriver] found in cache\n"
     ]
    },
    {
     "name": "stdout",
     "output_type": "stream",
     "text": [
      "{'news_title': \"NASA's Ingenuity Helicopter Captures a Mars Rock Feature in 3D\", 'news_p': 'The rotorcraft captures nuances of rocky outcrop during aerial reconnaissance.', 'featured_image_url': 'https://data-class-jpl-space.s3.amazonaws.com/JPL_Space/image/featured/mars1.jpg', 'space_facts_HTML': '<table border=\"1\" class=\"dataframe\">\\n  <thead>\\n    <tr style=\"text-align: right;\">\\n      <th></th>\\n      <th>0</th>\\n      <th>1</th>\\n    </tr>\\n  </thead>\\n  <tbody>\\n    <tr>\\n      <th>0</th>\\n      <td>Equatorial Diameter:</td>\\n      <td>6,792 km</td>\\n    </tr>\\n    <tr>\\n      <th>1</th>\\n      <td>Polar Diameter:</td>\\n      <td>6,752 km</td>\\n    </tr>\\n    <tr>\\n      <th>2</th>\\n      <td>Mass:</td>\\n      <td>6.39 × 10^23 kg (0.11 Earths)</td>\\n    </tr>\\n    <tr>\\n      <th>3</th>\\n      <td>Moons:</td>\\n      <td>2 (Phobos &amp; Deimos)</td>\\n    </tr>\\n    <tr>\\n      <th>4</th>\\n      <td>Orbit Distance:</td>\\n      <td>227,943,824 km (1.38 AU)</td>\\n    </tr>\\n    <tr>\\n      <th>5</th>\\n      <td>Orbit Period:</td>\\n      <td>687 days (1.9 years)</td>\\n    </tr>\\n    <tr>\\n      <th>6</th>\\n      <td>Surface Temperature:</td>\\n      <td>-87 to -5 °C</td>\\n    </tr>\\n    <tr>\\n      <th>7</th>\\n      <td>First Record:</td>\\n      <td>2nd millennium BC</td>\\n    </tr>\\n    <tr>\\n      <th>8</th>\\n      <td>Recorded By:</td>\\n      <td>Egyptian astronomers</td>\\n    </tr>\\n  </tbody>\\n</table>', 'hemispheres': [{'title': 'Cerberus Hemisphere Enhanced', 'img_url': 'https://astropedia.astrogeology.usgs.gov/download/Mars/Viking/cerberus_enhanced.tif/full.jpg'}, {'title': 'Schiaparelli Hemisphere Enhanced', 'img_url': 'https://astropedia.astrogeology.usgs.gov/download/Mars/Viking/schiaparelli_enhanced.tif/full.jpg'}, {'title': 'Syrtis Major Hemisphere Enhanced', 'img_url': 'https://astropedia.astrogeology.usgs.gov/download/Mars/Viking/syrtis_major_enhanced.tif/full.jpg'}, {'title': 'Valles Marineris Hemisphere Enhanced', 'img_url': 'https://astropedia.astrogeology.usgs.gov/download/Mars/Viking/valles_marineris_enhanced.tif/full.jpg'}]}\n"
     ]
    }
   ],
   "source": [
    "def scrapeMarsData(): \n",
    "    marsDict = {}\n",
    "    \n",
    "    # Mars News\n",
    "    news_tuple = scrapeNasaMarsNews()\n",
    "    news_title, news_p = news_tuple\n",
    "    marsDict['news_title'] = news_title\n",
    "    marsDict['news_p'] = news_p\n",
    "    \n",
    "    # JPL\n",
    "    marsDict['featured_image_url'] = scrapeJPLFeaturedImage()\n",
    "\n",
    "    # Mars Space Facts\n",
    "    marsDict['space_facts_HTML'] = scrapeMarsSpaceFacts()\n",
    "\n",
    "    marsDict['hemispheres'] = scrapeMarsHemispheres()\n",
    "    \n",
    "    return marsDict\n",
    "\n",
    "marsDict = scrapeMarsData()\n",
    "\n",
    "print(marsDict)"
   ]
  },
  {
   "cell_type": "code",
   "execution_count": null,
   "id": "e27f0f1e-567d-466d-862c-9afada797e11",
   "metadata": {},
   "outputs": [],
   "source": []
  },
  {
   "cell_type": "code",
   "execution_count": null,
   "id": "497d35e9-f029-4c35-a049-d3eeb03f9b5f",
   "metadata": {},
   "outputs": [],
   "source": []
  }
 ],
 "metadata": {
  "kernelspec": {
   "display_name": "Python 3",
   "language": "python",
   "name": "python3"
  },
  "language_info": {
   "codemirror_mode": {
    "name": "ipython",
    "version": 3
   },
   "file_extension": ".py",
   "mimetype": "text/x-python",
   "name": "python",
   "nbconvert_exporter": "python",
   "pygments_lexer": "ipython3",
   "version": "3.8.8"
  }
 },
 "nbformat": 4,
 "nbformat_minor": 5
}
